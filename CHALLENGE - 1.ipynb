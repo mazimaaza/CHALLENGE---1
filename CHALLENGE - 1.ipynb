{
 "cells": [
  {
   "cell_type": "code",
   "execution_count": 1,
   "id": "625c21cc",
   "metadata": {},
   "outputs": [],
   "source": [
    "s = \"this is My First Python programming class and i am learNING python string and its function\""
   ]
  },
  {
   "cell_type": "code",
   "execution_count": 2,
   "id": "e7e36f6b",
   "metadata": {},
   "outputs": [
    {
     "data": {
      "text/plain": [
       "'this is My First Python programming class and i am learNING python string and its function'"
      ]
     },
     "execution_count": 2,
     "metadata": {},
     "output_type": "execute_result"
    }
   ],
   "source": [
    "s"
   ]
  },
  {
   "cell_type": "markdown",
   "id": "cfa454bd",
   "metadata": {},
   "source": [
    "1 . Try to extract data from index one to index 300 with a jump of 3 "
   ]
  },
  {
   "cell_type": "code",
   "execution_count": 3,
   "id": "d6f6398a",
   "metadata": {},
   "outputs": [
    {
     "data": {
      "text/plain": [
       "'h   r tnrrmglsnimeNGyosi dtfco'"
      ]
     },
     "execution_count": 3,
     "metadata": {},
     "output_type": "execute_result"
    }
   ],
   "source": [
    "s[1:300:3]"
   ]
  },
  {
   "cell_type": "markdown",
   "id": "de894f6b",
   "metadata": {},
   "source": [
    "2. Try to reverse a string without using reverse function"
   ]
  },
  {
   "cell_type": "code",
   "execution_count": 4,
   "id": "b1beda20",
   "metadata": {},
   "outputs": [
    {
     "data": {
      "text/plain": [
       "'noitcnuf sti dna gnirts nohtyp GNINrael ma i dna ssalc gnimmargorp nohtyP tsriF yM si siht'"
      ]
     },
     "execution_count": 4,
     "metadata": {},
     "output_type": "execute_result"
    }
   ],
   "source": [
    "s[::-1]"
   ]
  },
  {
   "cell_type": "markdown",
   "id": "0f9c40cc",
   "metadata": {},
   "source": [
    "3. Try to split a string after conversion of entire string in uppercase "
   ]
  },
  {
   "cell_type": "code",
   "execution_count": 5,
   "id": "e54b904a",
   "metadata": {},
   "outputs": [
    {
     "data": {
      "text/plain": [
       "'this is My First Python programming class and i am learNING python string and its function'"
      ]
     },
     "execution_count": 5,
     "metadata": {},
     "output_type": "execute_result"
    }
   ],
   "source": [
    "s"
   ]
  },
  {
   "cell_type": "code",
   "execution_count": 6,
   "id": "0b71a60c",
   "metadata": {},
   "outputs": [
    {
     "data": {
      "text/plain": [
       "'THIS IS MY FIRST PYTHON PROGRAMMING CLASS AND I AM LEARNING PYTHON STRING AND ITS FUNCTION'"
      ]
     },
     "execution_count": 6,
     "metadata": {},
     "output_type": "execute_result"
    }
   ],
   "source": [
    "s.upper()"
   ]
  },
  {
   "cell_type": "code",
   "execution_count": 18,
   "id": "187cc004",
   "metadata": {},
   "outputs": [],
   "source": [
    "s = s.upper()"
   ]
  },
  {
   "cell_type": "code",
   "execution_count": 19,
   "id": "f072d980",
   "metadata": {},
   "outputs": [
    {
     "data": {
      "text/plain": [
       "'THIS IS MY FIRST PYTHON PROGRAMMING CLASS AND I AM LEARNING PYTHON STRING AND ITS FUNCTION'"
      ]
     },
     "execution_count": 19,
     "metadata": {},
     "output_type": "execute_result"
    }
   ],
   "source": [
    "s"
   ]
  },
  {
   "cell_type": "code",
   "execution_count": 20,
   "id": "44a665c4",
   "metadata": {},
   "outputs": [
    {
     "data": {
      "text/plain": [
       "['THIS',\n",
       " 'IS',\n",
       " 'MY',\n",
       " 'FIRST',\n",
       " 'PYTHON',\n",
       " 'PROGRAMMING',\n",
       " 'CLASS',\n",
       " 'AND',\n",
       " 'I',\n",
       " 'AM',\n",
       " 'LEARNING',\n",
       " 'PYTHON',\n",
       " 'STRING',\n",
       " 'AND',\n",
       " 'ITS',\n",
       " 'FUNCTION']"
      ]
     },
     "execution_count": 20,
     "metadata": {},
     "output_type": "execute_result"
    }
   ],
   "source": [
    "s.split()"
   ]
  },
  {
   "cell_type": "markdown",
   "id": "14115989",
   "metadata": {},
   "source": [
    "4. Try to convert the whole string into lower case "
   ]
  },
  {
   "cell_type": "code",
   "execution_count": 21,
   "id": "b93a686b",
   "metadata": {},
   "outputs": [
    {
     "data": {
      "text/plain": [
       "'THIS IS MY FIRST PYTHON PROGRAMMING CLASS AND I AM LEARNING PYTHON STRING AND ITS FUNCTION'"
      ]
     },
     "execution_count": 21,
     "metadata": {},
     "output_type": "execute_result"
    }
   ],
   "source": [
    "s"
   ]
  },
  {
   "cell_type": "code",
   "execution_count": 22,
   "id": "dd55a96f",
   "metadata": {},
   "outputs": [
    {
     "data": {
      "text/plain": [
       "'this is my first python programming class and i am learning python string and its function'"
      ]
     },
     "execution_count": 22,
     "metadata": {},
     "output_type": "execute_result"
    }
   ],
   "source": [
    "s.lower()"
   ]
  },
  {
   "cell_type": "markdown",
   "id": "17713231",
   "metadata": {},
   "source": [
    "5. Try to capitalize the whole string "
   ]
  },
  {
   "cell_type": "code",
   "execution_count": 24,
   "id": "645a5005",
   "metadata": {},
   "outputs": [
    {
     "data": {
      "text/plain": [
       "'THIS IS MY FIRST PYTHON PROGRAMMING CLASS AND I AM LEARNING PYTHON STRING AND ITS FUNCTION'"
      ]
     },
     "execution_count": 24,
     "metadata": {},
     "output_type": "execute_result"
    }
   ],
   "source": [
    "s"
   ]
  },
  {
   "cell_type": "code",
   "execution_count": 25,
   "id": "a1aff2b9",
   "metadata": {},
   "outputs": [
    {
     "data": {
      "text/plain": [
       "'This is my first python programming class and i am learning python string and its function'"
      ]
     },
     "execution_count": 25,
     "metadata": {},
     "output_type": "execute_result"
    }
   ],
   "source": [
    "s.capitalize()"
   ]
  },
  {
   "cell_type": "markdown",
   "id": "46093e14",
   "metadata": {},
   "source": [
    "6. Write a diference between isalnum() and isalpha()\n",
    "\n",
    "* isalnum() is a or condition which implies either alpha or numeric \n",
    "* isalpha() is define as character of a string."
   ]
  },
  {
   "cell_type": "markdown",
   "id": "f497eb5d",
   "metadata": {},
   "source": [
    "7. Give an example of strip , lstrip and rstrip "
   ]
  },
  {
   "cell_type": "code",
   "execution_count": 28,
   "id": "af4d1d23",
   "metadata": {},
   "outputs": [],
   "source": [
    "t = \"   turtle   \""
   ]
  },
  {
   "cell_type": "code",
   "execution_count": 29,
   "id": "98908040",
   "metadata": {},
   "outputs": [
    {
     "data": {
      "text/plain": [
       "'turtle'"
      ]
     },
     "execution_count": 29,
     "metadata": {},
     "output_type": "execute_result"
    }
   ],
   "source": [
    "t.strip()"
   ]
  },
  {
   "cell_type": "code",
   "execution_count": 30,
   "id": "afc84efa",
   "metadata": {},
   "outputs": [
    {
     "data": {
      "text/plain": [
       "'turtle   '"
      ]
     },
     "execution_count": 30,
     "metadata": {},
     "output_type": "execute_result"
    }
   ],
   "source": [
    "t.lstrip()"
   ]
  },
  {
   "cell_type": "code",
   "execution_count": 31,
   "id": "f962eeb7",
   "metadata": {},
   "outputs": [
    {
     "data": {
      "text/plain": [
       "'   turtle'"
      ]
     },
     "execution_count": 31,
     "metadata": {},
     "output_type": "execute_result"
    }
   ],
   "source": [
    "t.rstrip()"
   ]
  },
  {
   "cell_type": "markdown",
   "id": "2d15ae57",
   "metadata": {},
   "source": [
    "8. Try to give an example of expand tab"
   ]
  },
  {
   "cell_type": "code",
   "execution_count": 32,
   "id": "af16c54b",
   "metadata": {},
   "outputs": [],
   "source": [
    "w = \"harry\\tpotter\\tactor\""
   ]
  },
  {
   "cell_type": "code",
   "execution_count": 33,
   "id": "90ade1a5",
   "metadata": {},
   "outputs": [
    {
     "data": {
      "text/plain": [
       "'harry   potter  actor'"
      ]
     },
     "execution_count": 33,
     "metadata": {},
     "output_type": "execute_result"
    }
   ],
   "source": [
    "w.expandtabs()"
   ]
  },
  {
   "cell_type": "markdown",
   "id": "523ce254",
   "metadata": {},
   "source": [
    "9. Replace a string character by another character by taking your own example "
   ]
  },
  {
   "cell_type": "code",
   "execution_count": 34,
   "id": "3e107da7",
   "metadata": {},
   "outputs": [],
   "source": [
    "s1 = \"this is my first challenge from sudhanshu sir \""
   ]
  },
  {
   "cell_type": "code",
   "execution_count": 35,
   "id": "26fa02d9",
   "metadata": {},
   "outputs": [
    {
     "data": {
      "text/plain": [
       "'this is my first challenge from sudhanshu sir '"
      ]
     },
     "execution_count": 35,
     "metadata": {},
     "output_type": "execute_result"
    }
   ],
   "source": [
    "s1"
   ]
  },
  {
   "cell_type": "markdown",
   "id": "de8bc8a3",
   "metadata": {},
   "source": [
    " 10. Try to give a definition of string center function with an example.\n",
    " \n",
    " String center function is define as to fill the characters with the operators."
   ]
  },
  {
   "cell_type": "code",
   "execution_count": 36,
   "id": "7203a605",
   "metadata": {},
   "outputs": [],
   "source": [
    "g = \"kiana\""
   ]
  },
  {
   "cell_type": "code",
   "execution_count": 37,
   "id": "304bb488",
   "metadata": {},
   "outputs": [
    {
     "data": {
      "text/plain": [
       "'*******kiana********'"
      ]
     },
     "execution_count": 37,
     "metadata": {},
     "output_type": "execute_result"
    }
   ],
   "source": [
    "g.center(20, \"*\")"
   ]
  },
  {
   "cell_type": "markdown",
   "id": "141259c3",
   "metadata": {},
   "source": [
    "11 . Write your own definition of compiler and interpretor without copy paste form internet in your own language.\n",
    "\n",
    "* compiler - converting programming language into another language\n",
    "* interpretor - execution of a code"
   ]
  },
  {
   "cell_type": "markdown",
   "id": "6f9eec15",
   "metadata": {},
   "source": [
    "12. Python is a interpreted of compiled language give a clear ans with your understanding.\n",
    "\n",
    "Python is an interpreted language because python used to execute the code and it also gives a clear definition of each function."
   ]
  },
  {
   "cell_type": "markdown",
   "id": "ee2191f1",
   "metadata": {},
   "source": [
    "13 . Try to write a usecase of python with your understanding .\n",
    "\n",
    "Python uses in diffferent fields\n",
    "example like web development , game development , software development etc...."
   ]
  }
 ],
 "metadata": {
  "kernelspec": {
   "display_name": "Python 3 (ipykernel)",
   "language": "python",
   "name": "python3"
  },
  "language_info": {
   "codemirror_mode": {
    "name": "ipython",
    "version": 3
   },
   "file_extension": ".py",
   "mimetype": "text/x-python",
   "name": "python",
   "nbconvert_exporter": "python",
   "pygments_lexer": "ipython3",
   "version": "3.9.7"
  }
 },
 "nbformat": 4,
 "nbformat_minor": 5
}
